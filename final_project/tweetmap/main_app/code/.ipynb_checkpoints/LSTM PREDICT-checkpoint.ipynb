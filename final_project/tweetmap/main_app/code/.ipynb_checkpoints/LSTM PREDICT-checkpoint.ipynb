{
 "cells": [
  {
   "cell_type": "code",
   "execution_count": 1,
   "metadata": {
    "collapsed": true
   },
   "outputs": [],
   "source": [
    "import pickle\n",
    "import re\n",
    "import numpy as np"
   ]
  },
  {
   "cell_type": "code",
   "execution_count": 2,
   "metadata": {},
   "outputs": [
    {
     "name": "stderr",
     "output_type": "stream",
     "text": [
      "Using TensorFlow backend.\n"
     ]
    }
   ],
   "source": [
    "import keras.models\n",
    "from keras.models import model_from_json\n",
    "#from scipy.misc import imread, imresize, imshow"
   ]
  },
  {
   "cell_type": "code",
   "execution_count": 3,
   "metadata": {},
   "outputs": [],
   "source": [
    "token = pickle.load(open('./token.p','rb'))"
   ]
  },
  {
   "cell_type": "code",
   "execution_count": 4,
   "metadata": {
    "collapsed": true
   },
   "outputs": [],
   "source": [
    "def loadModel():\n",
    "    json_file = open('./LSTM.json','r')\n",
    "    loaded_model_json = json_file.read()\n",
    "    json_file.close()\n",
    "    loaded_model = model_from_json(loaded_model_json)\n",
    "    #Load weights into new model\n",
    "    loaded_model.load_weights('./LSTM_weights.h5')\n",
    "    print(\"Loaded model from disk\")\n",
    "    \n",
    "    #Compile and evaluate loaded model\n",
    "    loaded_model.compile(loss='binary_crossentropy', optimizer='adam', metrics=['accuracy'])\n",
    "    return loaded_model"
   ]
  },
  {
   "cell_type": "code",
   "execution_count": 5,
   "metadata": {
    "collapsed": true
   },
   "outputs": [],
   "source": [
    "def normalizeText(tweet):\n",
    "    tweet = re.sub(r'#(S|s)arcasm|#(I|i)rony','',tweet)\n",
    "    tweet = re.sub(r'#SARCASM|#IRONY','',tweet)\n",
    "    tweet = re.sub(r'https?://t\\.co/.(\\w|\\d)+','http://link', tweet) #tweet link\n",
    "    tweet = re.sub(r'@.\\w*','@',tweet)\n",
    "    tweet = re.sub(r'#','',tweet)\n",
    "    return tweet\n",
    "\n",
    "def text2seq(tweet):\n",
    "    return np.array(token.texts_to_sequences([tweet])[0]) # Return array like [1 2 3] instead of [[1 2 3]]\n",
    "\n",
    "def getPredict(tweet_seq):\n",
    "    predictions = []\n",
    "    tag = []\n",
    "    for i in tweet_seq:\n",
    "        predictions.append(model.predict_classes(i.reshape(len(i),1)))\n",
    "    for i in predictions:\n",
    "        tag.append(i.reshape(1,len(i)).mean())\n",
    "    return [round(x) for x in tag]\n"
   ]
  },
  {
   "cell_type": "code",
   "execution_count": 6,
   "metadata": {
    "collapsed": true
   },
   "outputs": [],
   "source": [
    "task = pickle.load(open('./results.txt','rb'))"
   ]
  },
  {
   "cell_type": "code",
   "execution_count": 7,
   "metadata": {},
   "outputs": [
    {
     "data": {
      "text/html": [
       "<div>\n",
       "<style scoped>\n",
       "    .dataframe tbody tr th:only-of-type {\n",
       "        vertical-align: middle;\n",
       "    }\n",
       "\n",
       "    .dataframe tbody tr th {\n",
       "        vertical-align: top;\n",
       "    }\n",
       "\n",
       "    .dataframe thead th {\n",
       "        text-align: right;\n",
       "    }\n",
       "</style>\n",
       "<table border=\"1\" class=\"dataframe\">\n",
       "  <thead>\n",
       "    <tr style=\"text-align: right;\">\n",
       "      <th></th>\n",
       "      <th>USER</th>\n",
       "      <th>TWEET</th>\n",
       "      <th>LAT</th>\n",
       "      <th>LONG</th>\n",
       "    </tr>\n",
       "  </thead>\n",
       "  <tbody>\n",
       "    <tr>\n",
       "      <th>0</th>\n",
       "      <td>anrosca</td>\n",
       "      <td>@Nigromanterueda @mundovelazquez o léanse al h...</td>\n",
       "      <td>-99.184350</td>\n",
       "      <td>19.399835</td>\n",
       "    </tr>\n",
       "    <tr>\n",
       "      <th>1</th>\n",
       "      <td>vanessa_amaya</td>\n",
       "      <td>Si claro, por supuesto, él es diferente ... No...</td>\n",
       "      <td>-99.259495</td>\n",
       "      <td>19.386371</td>\n",
       "    </tr>\n",
       "    <tr>\n",
       "      <th>2</th>\n",
       "      <td>EvyMedinz</td>\n",
       "      <td>@JKNetizen Pensé que era sarcasmo 😬</td>\n",
       "      <td>-99.259495</td>\n",
       "      <td>19.386371</td>\n",
       "    </tr>\n",
       "    <tr>\n",
       "      <th>3</th>\n",
       "      <td>leonardoolmos</td>\n",
       "      <td>DICEN QUE SI COMPARTES ESTA @OficialYuri DE LA...</td>\n",
       "      <td>-99.259495</td>\n",
       "      <td>19.386371</td>\n",
       "    </tr>\n",
       "    <tr>\n",
       "      <th>4</th>\n",
       "      <td>alexrobledof</td>\n",
       "      <td>@ZenTraderMx @Lvissxz Era sarcasmo jeje. \\nCab...</td>\n",
       "      <td>-99.184350</td>\n",
       "      <td>19.399835</td>\n",
       "    </tr>\n",
       "  </tbody>\n",
       "</table>\n",
       "</div>"
      ],
      "text/plain": [
       "            USER                                              TWEET  \\\n",
       "0        anrosca  @Nigromanterueda @mundovelazquez o léanse al h...   \n",
       "1  vanessa_amaya  Si claro, por supuesto, él es diferente ... No...   \n",
       "2      EvyMedinz                @JKNetizen Pensé que era sarcasmo 😬   \n",
       "3  leonardoolmos  DICEN QUE SI COMPARTES ESTA @OficialYuri DE LA...   \n",
       "4   alexrobledof  @ZenTraderMx @Lvissxz Era sarcasmo jeje. \\nCab...   \n",
       "\n",
       "         LAT       LONG  \n",
       "0 -99.184350  19.399835  \n",
       "1 -99.259495  19.386371  \n",
       "2 -99.259495  19.386371  \n",
       "3 -99.259495  19.386371  \n",
       "4 -99.184350  19.399835  "
      ]
     },
     "execution_count": 7,
     "metadata": {},
     "output_type": "execute_result"
    }
   ],
   "source": [
    "task.head()"
   ]
  },
  {
   "cell_type": "code",
   "execution_count": 8,
   "metadata": {},
   "outputs": [
    {
     "data": {
      "text/html": [
       "<div>\n",
       "<style scoped>\n",
       "    .dataframe tbody tr th:only-of-type {\n",
       "        vertical-align: middle;\n",
       "    }\n",
       "\n",
       "    .dataframe tbody tr th {\n",
       "        vertical-align: top;\n",
       "    }\n",
       "\n",
       "    .dataframe thead th {\n",
       "        text-align: right;\n",
       "    }\n",
       "</style>\n",
       "<table border=\"1\" class=\"dataframe\">\n",
       "  <thead>\n",
       "    <tr style=\"text-align: right;\">\n",
       "      <th></th>\n",
       "      <th>USER</th>\n",
       "      <th>TWEET</th>\n",
       "      <th>TWEET_SEC</th>\n",
       "      <th>LAT</th>\n",
       "      <th>LONG</th>\n",
       "    </tr>\n",
       "  </thead>\n",
       "  <tbody>\n",
       "    <tr>\n",
       "      <th>0</th>\n",
       "      <td>anrosca</td>\n",
       "      <td>@Nigromanterueda @mundovelazquez o léanse al h...</td>\n",
       "      <td>@ @ o léanse al honroso o “periodista” y nada ...</td>\n",
       "      <td>-99.184350</td>\n",
       "      <td>19.399835</td>\n",
       "    </tr>\n",
       "    <tr>\n",
       "      <th>1</th>\n",
       "      <td>vanessa_amaya</td>\n",
       "      <td>Si claro, por supuesto, él es diferente ... No...</td>\n",
       "      <td>Si claro, por supuesto, él es diferente ... No...</td>\n",
       "      <td>-99.259495</td>\n",
       "      <td>19.386371</td>\n",
       "    </tr>\n",
       "    <tr>\n",
       "      <th>2</th>\n",
       "      <td>EvyMedinz</td>\n",
       "      <td>@JKNetizen Pensé que era sarcasmo 😬</td>\n",
       "      <td>@ Pensé que era sarcasmo 😬</td>\n",
       "      <td>-99.259495</td>\n",
       "      <td>19.386371</td>\n",
       "    </tr>\n",
       "    <tr>\n",
       "      <th>3</th>\n",
       "      <td>leonardoolmos</td>\n",
       "      <td>DICEN QUE SI COMPARTES ESTA @OficialYuri DE LA...</td>\n",
       "      <td>DICEN QUE SI COMPARTES ESTA @ DE LA MORALIDAD ...</td>\n",
       "      <td>-99.259495</td>\n",
       "      <td>19.386371</td>\n",
       "    </tr>\n",
       "    <tr>\n",
       "      <th>4</th>\n",
       "      <td>alexrobledof</td>\n",
       "      <td>@ZenTraderMx @Lvissxz Era sarcasmo jeje. \\nCab...</td>\n",
       "      <td>@ @ Era sarcasmo jeje. \\nCabe todo, incluso se...</td>\n",
       "      <td>-99.184350</td>\n",
       "      <td>19.399835</td>\n",
       "    </tr>\n",
       "  </tbody>\n",
       "</table>\n",
       "</div>"
      ],
      "text/plain": [
       "            USER                                              TWEET  \\\n",
       "0        anrosca  @Nigromanterueda @mundovelazquez o léanse al h...   \n",
       "1  vanessa_amaya  Si claro, por supuesto, él es diferente ... No...   \n",
       "2      EvyMedinz                @JKNetizen Pensé que era sarcasmo 😬   \n",
       "3  leonardoolmos  DICEN QUE SI COMPARTES ESTA @OficialYuri DE LA...   \n",
       "4   alexrobledof  @ZenTraderMx @Lvissxz Era sarcasmo jeje. \\nCab...   \n",
       "\n",
       "                                           TWEET_SEC        LAT       LONG  \n",
       "0  @ @ o léanse al honroso o “periodista” y nada ... -99.184350  19.399835  \n",
       "1  Si claro, por supuesto, él es diferente ... No... -99.259495  19.386371  \n",
       "2                         @ Pensé que era sarcasmo 😬 -99.259495  19.386371  \n",
       "3  DICEN QUE SI COMPARTES ESTA @ DE LA MORALIDAD ... -99.259495  19.386371  \n",
       "4  @ @ Era sarcasmo jeje. \\nCabe todo, incluso se... -99.184350  19.399835  "
      ]
     },
     "execution_count": 8,
     "metadata": {},
     "output_type": "execute_result"
    }
   ],
   "source": [
    "value = task['TWEET'].apply(normalizeText)\n",
    "task.insert(loc=2,column='TWEET_SEC',value=value)\n",
    "task.head()"
   ]
  },
  {
   "cell_type": "code",
   "execution_count": 9,
   "metadata": {},
   "outputs": [
    {
     "data": {
      "text/html": [
       "<div>\n",
       "<style scoped>\n",
       "    .dataframe tbody tr th:only-of-type {\n",
       "        vertical-align: middle;\n",
       "    }\n",
       "\n",
       "    .dataframe tbody tr th {\n",
       "        vertical-align: top;\n",
       "    }\n",
       "\n",
       "    .dataframe thead th {\n",
       "        text-align: right;\n",
       "    }\n",
       "</style>\n",
       "<table border=\"1\" class=\"dataframe\">\n",
       "  <thead>\n",
       "    <tr style=\"text-align: right;\">\n",
       "      <th></th>\n",
       "      <th>USER</th>\n",
       "      <th>TWEET</th>\n",
       "      <th>TWEET_SEC</th>\n",
       "      <th>LAT</th>\n",
       "      <th>LONG</th>\n",
       "    </tr>\n",
       "  </thead>\n",
       "  <tbody>\n",
       "    <tr>\n",
       "      <th>0</th>\n",
       "      <td>anrosca</td>\n",
       "      <td>@Nigromanterueda @mundovelazquez o léanse al h...</td>\n",
       "      <td>[3, 3, 68, 37, 68, 6, 58, 52, 95, 11]</td>\n",
       "      <td>-99.184350</td>\n",
       "      <td>19.399835</td>\n",
       "    </tr>\n",
       "    <tr>\n",
       "      <th>1</th>\n",
       "      <td>vanessa_amaya</td>\n",
       "      <td>Si claro, por supuesto, él es diferente ... No...</td>\n",
       "      <td>[78, 196, 16, 2066, 435, 12, 975, 33, 184, 16,...</td>\n",
       "      <td>-99.259495</td>\n",
       "      <td>19.386371</td>\n",
       "    </tr>\n",
       "    <tr>\n",
       "      <th>2</th>\n",
       "      <td>EvyMedinz</td>\n",
       "      <td>@JKNetizen Pensé que era sarcasmo 😬</td>\n",
       "      <td>[3, 7500, 1, 151, 4344, 4043]</td>\n",
       "      <td>-99.259495</td>\n",
       "      <td>19.386371</td>\n",
       "    </tr>\n",
       "    <tr>\n",
       "      <th>3</th>\n",
       "      <td>leonardoolmos</td>\n",
       "      <td>DICEN QUE SI COMPARTES ESTA @OficialYuri DE LA...</td>\n",
       "      <td>[189, 922, 461, 3, 242, 274, 242, 7432, 47, 47...</td>\n",
       "      <td>-99.259495</td>\n",
       "      <td>19.386371</td>\n",
       "    </tr>\n",
       "    <tr>\n",
       "      <th>4</th>\n",
       "      <td>alexrobledof</td>\n",
       "      <td>@ZenTraderMx @Lvissxz Era sarcasmo jeje. \\nCab...</td>\n",
       "      <td>[3, 3, 2864, 4344, 1746, 5510, 40, 2599, 173, ...</td>\n",
       "      <td>-99.184350</td>\n",
       "      <td>19.399835</td>\n",
       "    </tr>\n",
       "  </tbody>\n",
       "</table>\n",
       "</div>"
      ],
      "text/plain": [
       "            USER                                              TWEET  \\\n",
       "0        anrosca  @Nigromanterueda @mundovelazquez o léanse al h...   \n",
       "1  vanessa_amaya  Si claro, por supuesto, él es diferente ... No...   \n",
       "2      EvyMedinz                @JKNetizen Pensé que era sarcasmo 😬   \n",
       "3  leonardoolmos  DICEN QUE SI COMPARTES ESTA @OficialYuri DE LA...   \n",
       "4   alexrobledof  @ZenTraderMx @Lvissxz Era sarcasmo jeje. \\nCab...   \n",
       "\n",
       "                                           TWEET_SEC        LAT       LONG  \n",
       "0              [3, 3, 68, 37, 68, 6, 58, 52, 95, 11] -99.184350  19.399835  \n",
       "1  [78, 196, 16, 2066, 435, 12, 975, 33, 184, 16,... -99.259495  19.386371  \n",
       "2                      [3, 7500, 1, 151, 4344, 4043] -99.259495  19.386371  \n",
       "3  [189, 922, 461, 3, 242, 274, 242, 7432, 47, 47... -99.259495  19.386371  \n",
       "4  [3, 3, 2864, 4344, 1746, 5510, 40, 2599, 173, ... -99.184350  19.399835  "
      ]
     },
     "execution_count": 9,
     "metadata": {},
     "output_type": "execute_result"
    }
   ],
   "source": [
    "task['TWEET_SEC']=task['TWEET_SEC'].apply(text2seq)\n",
    "task.head()"
   ]
  },
  {
   "cell_type": "code",
   "execution_count": 10,
   "metadata": {},
   "outputs": [
    {
     "name": "stdout",
     "output_type": "stream",
     "text": [
      "Loaded model from disk\n"
     ]
    }
   ],
   "source": [
    "model = loadModel()"
   ]
  },
  {
   "cell_type": "code",
   "execution_count": 11,
   "metadata": {},
   "outputs": [
    {
     "data": {
      "text/html": [
       "<div>\n",
       "<style scoped>\n",
       "    .dataframe tbody tr th:only-of-type {\n",
       "        vertical-align: middle;\n",
       "    }\n",
       "\n",
       "    .dataframe tbody tr th {\n",
       "        vertical-align: top;\n",
       "    }\n",
       "\n",
       "    .dataframe thead th {\n",
       "        text-align: right;\n",
       "    }\n",
       "</style>\n",
       "<table border=\"1\" class=\"dataframe\">\n",
       "  <thead>\n",
       "    <tr style=\"text-align: right;\">\n",
       "      <th></th>\n",
       "      <th>USER</th>\n",
       "      <th>TWEET</th>\n",
       "      <th>CLASS</th>\n",
       "      <th>TWEET_SEC</th>\n",
       "      <th>LAT</th>\n",
       "      <th>LONG</th>\n",
       "    </tr>\n",
       "  </thead>\n",
       "  <tbody>\n",
       "    <tr>\n",
       "      <th>0</th>\n",
       "      <td>anrosca</td>\n",
       "      <td>@Nigromanterueda @mundovelazquez o léanse al h...</td>\n",
       "      <td>1.0</td>\n",
       "      <td>[3, 3, 68, 37, 68, 6, 58, 52, 95, 11]</td>\n",
       "      <td>-99.184350</td>\n",
       "      <td>19.399835</td>\n",
       "    </tr>\n",
       "    <tr>\n",
       "      <th>1</th>\n",
       "      <td>vanessa_amaya</td>\n",
       "      <td>Si claro, por supuesto, él es diferente ... No...</td>\n",
       "      <td>0.0</td>\n",
       "      <td>[78, 196, 16, 2066, 435, 12, 975, 33, 184, 16,...</td>\n",
       "      <td>-99.259495</td>\n",
       "      <td>19.386371</td>\n",
       "    </tr>\n",
       "    <tr>\n",
       "      <th>2</th>\n",
       "      <td>EvyMedinz</td>\n",
       "      <td>@JKNetizen Pensé que era sarcasmo 😬</td>\n",
       "      <td>1.0</td>\n",
       "      <td>[3, 7500, 1, 151, 4344, 4043]</td>\n",
       "      <td>-99.259495</td>\n",
       "      <td>19.386371</td>\n",
       "    </tr>\n",
       "    <tr>\n",
       "      <th>3</th>\n",
       "      <td>leonardoolmos</td>\n",
       "      <td>DICEN QUE SI COMPARTES ESTA @OficialYuri DE LA...</td>\n",
       "      <td>0.0</td>\n",
       "      <td>[189, 922, 461, 3, 242, 274, 242, 7432, 47, 47...</td>\n",
       "      <td>-99.259495</td>\n",
       "      <td>19.386371</td>\n",
       "    </tr>\n",
       "    <tr>\n",
       "      <th>4</th>\n",
       "      <td>alexrobledof</td>\n",
       "      <td>@ZenTraderMx @Lvissxz Era sarcasmo jeje. \\nCab...</td>\n",
       "      <td>0.0</td>\n",
       "      <td>[3, 3, 2864, 4344, 1746, 5510, 40, 2599, 173, ...</td>\n",
       "      <td>-99.184350</td>\n",
       "      <td>19.399835</td>\n",
       "    </tr>\n",
       "  </tbody>\n",
       "</table>\n",
       "</div>"
      ],
      "text/plain": [
       "            USER                                              TWEET  CLASS  \\\n",
       "0        anrosca  @Nigromanterueda @mundovelazquez o léanse al h...    1.0   \n",
       "1  vanessa_amaya  Si claro, por supuesto, él es diferente ... No...    0.0   \n",
       "2      EvyMedinz                @JKNetizen Pensé que era sarcasmo 😬    1.0   \n",
       "3  leonardoolmos  DICEN QUE SI COMPARTES ESTA @OficialYuri DE LA...    0.0   \n",
       "4   alexrobledof  @ZenTraderMx @Lvissxz Era sarcasmo jeje. \\nCab...    0.0   \n",
       "\n",
       "                                           TWEET_SEC        LAT       LONG  \n",
       "0              [3, 3, 68, 37, 68, 6, 58, 52, 95, 11] -99.184350  19.399835  \n",
       "1  [78, 196, 16, 2066, 435, 12, 975, 33, 184, 16,... -99.259495  19.386371  \n",
       "2                      [3, 7500, 1, 151, 4344, 4043] -99.259495  19.386371  \n",
       "3  [189, 922, 461, 3, 242, 274, 242, 7432, 47, 47... -99.259495  19.386371  \n",
       "4  [3, 3, 2864, 4344, 1746, 5510, 40, 2599, 173, ... -99.184350  19.399835  "
      ]
     },
     "execution_count": 11,
     "metadata": {},
     "output_type": "execute_result"
    }
   ],
   "source": [
    "tag = getPredict(task['TWEET_SEC'])\n",
    "task.insert(loc=2,column='CLASS',value=tag)\n",
    "task.head()"
   ]
  },
  {
   "cell_type": "code",
   "execution_count": 12,
   "metadata": {},
   "outputs": [
    {
     "data": {
      "text/html": [
       "<div>\n",
       "<style scoped>\n",
       "    .dataframe tbody tr th:only-of-type {\n",
       "        vertical-align: middle;\n",
       "    }\n",
       "\n",
       "    .dataframe tbody tr th {\n",
       "        vertical-align: top;\n",
       "    }\n",
       "\n",
       "    .dataframe thead th {\n",
       "        text-align: right;\n",
       "    }\n",
       "</style>\n",
       "<table border=\"1\" class=\"dataframe\">\n",
       "  <thead>\n",
       "    <tr style=\"text-align: right;\">\n",
       "      <th></th>\n",
       "      <th>USER</th>\n",
       "      <th>TWEET</th>\n",
       "      <th>CLASS</th>\n",
       "      <th>LAT</th>\n",
       "      <th>LONG</th>\n",
       "    </tr>\n",
       "  </thead>\n",
       "  <tbody>\n",
       "    <tr>\n",
       "      <th>0</th>\n",
       "      <td>anrosca</td>\n",
       "      <td>@Nigromanterueda @mundovelazquez o léanse al h...</td>\n",
       "      <td>1.0</td>\n",
       "      <td>-99.184350</td>\n",
       "      <td>19.399835</td>\n",
       "    </tr>\n",
       "    <tr>\n",
       "      <th>1</th>\n",
       "      <td>vanessa_amaya</td>\n",
       "      <td>Si claro, por supuesto, él es diferente ... No...</td>\n",
       "      <td>0.0</td>\n",
       "      <td>-99.259495</td>\n",
       "      <td>19.386371</td>\n",
       "    </tr>\n",
       "    <tr>\n",
       "      <th>2</th>\n",
       "      <td>EvyMedinz</td>\n",
       "      <td>@JKNetizen Pensé que era sarcasmo 😬</td>\n",
       "      <td>1.0</td>\n",
       "      <td>-99.259495</td>\n",
       "      <td>19.386371</td>\n",
       "    </tr>\n",
       "    <tr>\n",
       "      <th>3</th>\n",
       "      <td>leonardoolmos</td>\n",
       "      <td>DICEN QUE SI COMPARTES ESTA @OficialYuri DE LA...</td>\n",
       "      <td>0.0</td>\n",
       "      <td>-99.259495</td>\n",
       "      <td>19.386371</td>\n",
       "    </tr>\n",
       "    <tr>\n",
       "      <th>4</th>\n",
       "      <td>alexrobledof</td>\n",
       "      <td>@ZenTraderMx @Lvissxz Era sarcasmo jeje. \\nCab...</td>\n",
       "      <td>0.0</td>\n",
       "      <td>-99.184350</td>\n",
       "      <td>19.399835</td>\n",
       "    </tr>\n",
       "  </tbody>\n",
       "</table>\n",
       "</div>"
      ],
      "text/plain": [
       "            USER                                              TWEET  CLASS  \\\n",
       "0        anrosca  @Nigromanterueda @mundovelazquez o léanse al h...    1.0   \n",
       "1  vanessa_amaya  Si claro, por supuesto, él es diferente ... No...    0.0   \n",
       "2      EvyMedinz                @JKNetizen Pensé que era sarcasmo 😬    1.0   \n",
       "3  leonardoolmos  DICEN QUE SI COMPARTES ESTA @OficialYuri DE LA...    0.0   \n",
       "4   alexrobledof  @ZenTraderMx @Lvissxz Era sarcasmo jeje. \\nCab...    0.0   \n",
       "\n",
       "         LAT       LONG  \n",
       "0 -99.184350  19.399835  \n",
       "1 -99.259495  19.386371  \n",
       "2 -99.259495  19.386371  \n",
       "3 -99.259495  19.386371  \n",
       "4 -99.184350  19.399835  "
      ]
     },
     "execution_count": 12,
     "metadata": {},
     "output_type": "execute_result"
    }
   ],
   "source": [
    "ultimate = task[['USER','TWEET','CLASS','LAT','LONG']]\n",
    "ultimate.head()"
   ]
  },
  {
   "cell_type": "code",
   "execution_count": 18,
   "metadata": {
    "collapsed": true
   },
   "outputs": [],
   "source": [
    "ultimate.to_json('./supreme.json',orient='records')"
   ]
  }
 ],
 "metadata": {
  "kernelspec": {
   "display_name": "Python3(f_project)",
   "language": "python",
   "name": "dependencies"
  },
  "language_info": {
   "codemirror_mode": {
    "name": "ipython",
    "version": 3
   },
   "file_extension": ".py",
   "mimetype": "text/x-python",
   "name": "python",
   "nbconvert_exporter": "python",
   "pygments_lexer": "ipython3",
   "version": "3.5.2"
  }
 },
 "nbformat": 4,
 "nbformat_minor": 2
}
