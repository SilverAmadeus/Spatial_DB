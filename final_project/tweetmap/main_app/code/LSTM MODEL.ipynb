{
 "cells": [
  {
   "cell_type": "code",
   "execution_count": 1,
   "metadata": {},
   "outputs": [
    {
     "name": "stderr",
     "output_type": "stream",
     "text": [
      "Using TensorFlow backend.\n"
     ]
    }
   ],
   "source": [
    "from keras.preprocessing import sequence\n",
    "from keras.models import Sequential\n",
    "from keras.layers import Dense, Embedding\n",
    "from keras.layers import LSTM"
   ]
  },
  {
   "cell_type": "code",
   "execution_count": 2,
   "metadata": {
    "collapsed": true
   },
   "outputs": [],
   "source": [
    "import numpy as np\n",
    "import pandas as pd"
   ]
  },
  {
   "cell_type": "code",
   "execution_count": 3,
   "metadata": {
    "collapsed": true
   },
   "outputs": [],
   "source": [
    "import pickle"
   ]
  },
  {
   "cell_type": "markdown",
   "metadata": {},
   "source": [
    "Embeding"
   ]
  },
  {
   "cell_type": "code",
   "execution_count": 4,
   "metadata": {
    "collapsed": true
   },
   "outputs": [],
   "source": [
    "max_features = 20000\n",
    "maxlen = 20\n",
    "embedding_size = 128"
   ]
  },
  {
   "cell_type": "markdown",
   "metadata": {},
   "source": [
    "LSTM"
   ]
  },
  {
   "cell_type": "code",
   "execution_count": 5,
   "metadata": {
    "collapsed": true
   },
   "outputs": [],
   "source": [
    "lstm_output_size = 128"
   ]
  },
  {
   "cell_type": "markdown",
   "metadata": {},
   "source": [
    "Training"
   ]
  },
  {
   "cell_type": "code",
   "execution_count": 6,
   "metadata": {
    "collapsed": true
   },
   "outputs": [],
   "source": [
    "batch_size = 32\n",
    "epochs = 20"
   ]
  },
  {
   "cell_type": "code",
   "execution_count": 7,
   "metadata": {},
   "outputs": [],
   "source": [
    "from sklearn.model_selection import train_test_split\n",
    "from sklearn.model_selection import StratifiedKFold"
   ]
  },
  {
   "cell_type": "code",
   "execution_count": 8,
   "metadata": {},
   "outputs": [],
   "source": [
    "ds = pickle.load(open('./tweet_seq.txt','rb'))"
   ]
  },
  {
   "cell_type": "code",
   "execution_count": 9,
   "metadata": {},
   "outputs": [
    {
     "data": {
      "text/html": [
       "<div>\n",
       "<style scoped>\n",
       "    .dataframe tbody tr th:only-of-type {\n",
       "        vertical-align: middle;\n",
       "    }\n",
       "\n",
       "    .dataframe tbody tr th {\n",
       "        vertical-align: top;\n",
       "    }\n",
       "\n",
       "    .dataframe thead th {\n",
       "        text-align: right;\n",
       "    }\n",
       "</style>\n",
       "<table border=\"1\" class=\"dataframe\">\n",
       "  <thead>\n",
       "    <tr style=\"text-align: right;\">\n",
       "      <th></th>\n",
       "      <th>CATEGORY</th>\n",
       "      <th>TWEET</th>\n",
       "    </tr>\n",
       "  </thead>\n",
       "  <tbody>\n",
       "    <tr>\n",
       "      <th>0</th>\n",
       "      <td>1</td>\n",
       "      <td>[268, 456, 146, 2, 469, 4487]</td>\n",
       "    </tr>\n",
       "    <tr>\n",
       "      <th>1</th>\n",
       "      <td>1</td>\n",
       "      <td>[3, 3, 3, 3, 2263, 8, 9821, 3, 3047]</td>\n",
       "    </tr>\n",
       "    <tr>\n",
       "      <th>2</th>\n",
       "      <td>0</td>\n",
       "      <td>[3, 80, 173, 35, 1, 14, 39, 2264, 8, 9822, 226...</td>\n",
       "    </tr>\n",
       "    <tr>\n",
       "      <th>3</th>\n",
       "      <td>1</td>\n",
       "      <td>[3, 108, 41, 21, 470, 10, 660, 6, 216, 300, 6,...</td>\n",
       "    </tr>\n",
       "    <tr>\n",
       "      <th>4</th>\n",
       "      <td>1</td>\n",
       "      <td>[3, 3, 559, 107, 29, 579, 29, 418]</td>\n",
       "    </tr>\n",
       "  </tbody>\n",
       "</table>\n",
       "</div>"
      ],
      "text/plain": [
       "  CATEGORY                                              TWEET\n",
       "0        1                      [268, 456, 146, 2, 469, 4487]\n",
       "1        1               [3, 3, 3, 3, 2263, 8, 9821, 3, 3047]\n",
       "2        0  [3, 80, 173, 35, 1, 14, 39, 2264, 8, 9822, 226...\n",
       "3        1  [3, 108, 41, 21, 470, 10, 660, 6, 216, 300, 6,...\n",
       "4        1                 [3, 3, 559, 107, 29, 579, 29, 418]"
      ]
     },
     "execution_count": 9,
     "metadata": {},
     "output_type": "execute_result"
    }
   ],
   "source": [
    "ds.head()"
   ]
  },
  {
   "cell_type": "code",
   "execution_count": 10,
   "metadata": {},
   "outputs": [
    {
     "data": {
      "text/plain": [
       "CATEGORY    15306\n",
       "TWEET       15306\n",
       "dtype: int64"
      ]
     },
     "execution_count": 10,
     "metadata": {},
     "output_type": "execute_result"
    }
   ],
   "source": [
    "ds.count()"
   ]
  },
  {
   "cell_type": "code",
   "execution_count": 11,
   "metadata": {},
   "outputs": [
    {
     "name": "stdout",
     "output_type": "stream",
     "text": [
      "Pad sequences (samples x time)\n",
      "tweet shape: (15306, 20)\n"
     ]
    }
   ],
   "source": [
    "print('Pad sequences (samples x time)')\n",
    "tweet_sec = sequence.pad_sequences(ds['TWEET'], maxlen=maxlen)\n",
    "print('tweet shape:', tweet_sec.shape)"
   ]
  },
  {
   "cell_type": "code",
   "execution_count": 12,
   "metadata": {
    "collapsed": true
   },
   "outputs": [],
   "source": [
    "def build_arch():\n",
    "    print('Build model...')\n",
    "    model = Sequential()\n",
    "    model.add(Embedding(max_features, embedding_size))\n",
    "    model.add(LSTM(lstm_output_size,\n",
    "                   activation='tanh', \n",
    "                   recurrent_activation='hard_sigmoid', \n",
    "                   dropout=0.2, \n",
    "                   recurrent_dropout=0.2))\n",
    "    model.add(Dense(1, activation='sigmoid'))\n",
    "    return model"
   ]
  },
  {
   "cell_type": "code",
   "execution_count": 13,
   "metadata": {
    "collapsed": true
   },
   "outputs": [],
   "source": [
    "def cross_val(tweet_sec, target, nFolds):\n",
    "    kFold = StratifiedKFold(n_splits=nFolds, shuffle=True)\n",
    "    scores = []\n",
    "    for train, test in kFold.split(tweet_sec,target):\n",
    "        model = build_arch()\n",
    "        model.compile(loss='binary_crossentropy', optimizer='adam', metrics=['accuracy'])\n",
    "        model.fit(tweet_sec[train],target[train],\n",
    "                  batch_size=batch_size,\n",
    "                  epochs=epochs,\n",
    "                  validation_split=0.1,\n",
    "                  verbose=1)\n",
    "        score, acc = model.evaluate(tweet_sec[test], target[test],batch_size=batch_size)\n",
    "        scores.append(acc * 100)\n",
    "    return scores   "
   ]
  },
  {
   "cell_type": "code",
   "execution_count": 14,
   "metadata": {
    "collapsed": true
   },
   "outputs": [],
   "source": [
    "#Training with the 100% of the data set\n",
    "def train_model(tweet_sec,target):\n",
    "    model = build_arch()\n",
    "    model.compile(loss='binary_crossentropy', optimizer='adam', metrics=['accuracy'])\n",
    "    return model.fit(tweet_sec, target,\n",
    "              batch_size=batch_size,\n",
    "              epochs=epochs,\n",
    "              verbose=1)"
   ]
  },
  {
   "cell_type": "code",
   "execution_count": 15,
   "metadata": {},
   "outputs": [
    {
     "name": "stdout",
     "output_type": "stream",
     "text": [
      "Build model...\n",
      "Train on 12396 samples, validate on 1378 samples\n",
      "Epoch 1/20\n",
      "12396/12396 [==============================] - 25s 2ms/step - loss: 0.4021 - acc: 0.8187 - val_loss: 0.2782 - val_acc: 0.8853\n",
      "Epoch 2/20\n",
      "12396/12396 [==============================] - 23s 2ms/step - loss: 0.1787 - acc: 0.9342 - val_loss: 0.2943 - val_acc: 0.8919\n",
      "Epoch 3/20\n",
      "12396/12396 [==============================] - 23s 2ms/step - loss: 0.0962 - acc: 0.9657 - val_loss: 0.3871 - val_acc: 0.8694\n",
      "Epoch 4/20\n",
      "12396/12396 [==============================] - 24s 2ms/step - loss: 0.0535 - acc: 0.9820 - val_loss: 0.5289 - val_acc: 0.8628\n",
      "Epoch 5/20\n",
      "12396/12396 [==============================] - 23s 2ms/step - loss: 0.0376 - acc: 0.9864 - val_loss: 0.5496 - val_acc: 0.8563\n",
      "Epoch 6/20\n",
      "12396/12396 [==============================] - 24s 2ms/step - loss: 0.0258 - acc: 0.9911 - val_loss: 0.6448 - val_acc: 0.8527\n",
      "Epoch 7/20\n",
      "12396/12396 [==============================] - 24s 2ms/step - loss: 0.0252 - acc: 0.9914 - val_loss: 0.6706 - val_acc: 0.8614\n",
      "Epoch 8/20\n",
      "12396/12396 [==============================] - 24s 2ms/step - loss: 0.0210 - acc: 0.9929 - val_loss: 0.6917 - val_acc: 0.8520\n",
      "Epoch 9/20\n",
      "12396/12396 [==============================] - 24s 2ms/step - loss: 0.0152 - acc: 0.9950 - val_loss: 0.8140 - val_acc: 0.8389\n",
      "Epoch 10/20\n",
      "12396/12396 [==============================] - 24s 2ms/step - loss: 0.0138 - acc: 0.9954 - val_loss: 0.8637 - val_acc: 0.8389\n",
      "Epoch 11/20\n",
      "12396/12396 [==============================] - 24s 2ms/step - loss: 0.0106 - acc: 0.9970 - val_loss: 0.8456 - val_acc: 0.8316\n",
      "Epoch 12/20\n",
      "12396/12396 [==============================] - 24s 2ms/step - loss: 0.0130 - acc: 0.9954 - val_loss: 0.9734 - val_acc: 0.8389\n",
      "Epoch 13/20\n",
      "12396/12396 [==============================] - 25s 2ms/step - loss: 0.0090 - acc: 0.9969 - val_loss: 0.8847 - val_acc: 0.8353\n",
      "Epoch 14/20\n",
      "12396/12396 [==============================] - 25s 2ms/step - loss: 0.0085 - acc: 0.9975 - val_loss: 1.0355 - val_acc: 0.8418\n",
      "Epoch 15/20\n",
      "12396/12396 [==============================] - 25s 2ms/step - loss: 0.0088 - acc: 0.9974 - val_loss: 0.9146 - val_acc: 0.8208\n",
      "Epoch 16/20\n",
      "12396/12396 [==============================] - 25s 2ms/step - loss: 0.0076 - acc: 0.9978 - val_loss: 1.0327 - val_acc: 0.8447\n",
      "Epoch 17/20\n",
      "12396/12396 [==============================] - 25s 2ms/step - loss: 0.0077 - acc: 0.9974 - val_loss: 0.9959 - val_acc: 0.8367\n",
      "Epoch 18/20\n",
      "12396/12396 [==============================] - 25s 2ms/step - loss: 0.0029 - acc: 0.9992 - val_loss: 1.1735 - val_acc: 0.8403\n",
      "Epoch 19/20\n",
      "12396/12396 [==============================] - 25s 2ms/step - loss: 0.0035 - acc: 0.9990 - val_loss: 1.0990 - val_acc: 0.8324\n",
      "Epoch 20/20\n",
      "12396/12396 [==============================] - 25s 2ms/step - loss: 0.0030 - acc: 0.9990 - val_loss: 1.2084 - val_acc: 0.8367\n",
      "1532/1532 [==============================] - 0s 272us/step\n",
      "Build model...\n",
      "Train on 12396 samples, validate on 1378 samples\n",
      "Epoch 1/20\n",
      "12396/12396 [==============================] - 25s 2ms/step - loss: 0.3973 - acc: 0.8225 - val_loss: 0.2962 - val_acc: 0.8730\n",
      "Epoch 2/20\n",
      "12396/12396 [==============================] - 25s 2ms/step - loss: 0.1738 - acc: 0.9348 - val_loss: 0.3324 - val_acc: 0.8614\n",
      "Epoch 3/20\n",
      "12396/12396 [==============================] - 24s 2ms/step - loss: 0.0890 - acc: 0.9686 - val_loss: 0.3808 - val_acc: 0.8708\n",
      "Epoch 4/20\n",
      "12396/12396 [==============================] - 24s 2ms/step - loss: 0.0566 - acc: 0.9809 - val_loss: 0.4964 - val_acc: 0.8556\n",
      "Epoch 5/20\n",
      "12396/12396 [==============================] - 24s 2ms/step - loss: 0.0346 - acc: 0.9877 - val_loss: 0.5355 - val_acc: 0.8527\n",
      "Epoch 6/20\n",
      "12396/12396 [==============================] - 24s 2ms/step - loss: 0.0267 - acc: 0.9910 - val_loss: 0.6174 - val_acc: 0.8578\n",
      "Epoch 7/20\n",
      "12396/12396 [==============================] - 25s 2ms/step - loss: 0.0202 - acc: 0.9939 - val_loss: 0.8184 - val_acc: 0.8483\n",
      "Epoch 8/20\n",
      "12396/12396 [==============================] - 25s 2ms/step - loss: 0.0200 - acc: 0.9939 - val_loss: 0.6959 - val_acc: 0.8280\n",
      "Epoch 9/20\n",
      "12396/12396 [==============================] - 25s 2ms/step - loss: 0.0139 - acc: 0.9951 - val_loss: 0.8338 - val_acc: 0.8251\n",
      "Epoch 10/20\n",
      "12396/12396 [==============================] - 25s 2ms/step - loss: 0.0174 - acc: 0.9943 - val_loss: 0.6862 - val_acc: 0.8483\n",
      "Epoch 11/20\n",
      "12396/12396 [==============================] - 25s 2ms/step - loss: 0.0103 - acc: 0.9966 - val_loss: 0.8028 - val_acc: 0.8295\n",
      "Epoch 12/20\n",
      "12396/12396 [==============================] - 25s 2ms/step - loss: 0.0096 - acc: 0.9968 - val_loss: 0.9648 - val_acc: 0.8570\n",
      "Epoch 13/20\n",
      "12396/12396 [==============================] - 25s 2ms/step - loss: 0.0124 - acc: 0.9956 - val_loss: 0.8562 - val_acc: 0.8469\n",
      "Epoch 14/20\n",
      "12396/12396 [==============================] - 24s 2ms/step - loss: 0.0065 - acc: 0.9981 - val_loss: 0.8958 - val_acc: 0.8396\n",
      "Epoch 15/20\n",
      "12396/12396 [==============================] - 24s 2ms/step - loss: 0.0083 - acc: 0.9973 - val_loss: 0.8735 - val_acc: 0.8324\n",
      "Epoch 16/20\n",
      "12396/12396 [==============================] - 24s 2ms/step - loss: 0.0085 - acc: 0.9974 - val_loss: 0.9366 - val_acc: 0.8389\n",
      "Epoch 17/20\n",
      "12396/12396 [==============================] - 24s 2ms/step - loss: 0.0053 - acc: 0.9980 - val_loss: 1.0968 - val_acc: 0.8345\n",
      "Epoch 18/20\n",
      "12396/12396 [==============================] - 24s 2ms/step - loss: 0.0071 - acc: 0.9979 - val_loss: 1.0576 - val_acc: 0.8171\n",
      "Epoch 19/20\n",
      "12396/12396 [==============================] - 24s 2ms/step - loss: 0.0058 - acc: 0.9981 - val_loss: 1.1288 - val_acc: 0.8302\n",
      "Epoch 20/20\n",
      "12396/12396 [==============================] - 24s 2ms/step - loss: 0.0106 - acc: 0.9972 - val_loss: 0.9751 - val_acc: 0.8454\n",
      "1532/1532 [==============================] - 0s 267us/step\n",
      "Build model...\n",
      "Train on 12396 samples, validate on 1378 samples\n",
      "Epoch 1/20\n",
      "12396/12396 [==============================] - 25s 2ms/step - loss: 0.3937 - acc: 0.8212 - val_loss: 0.2860 - val_acc: 0.8868\n",
      "Epoch 2/20\n",
      "12396/12396 [==============================] - 24s 2ms/step - loss: 0.1758 - acc: 0.9350 - val_loss: 0.3496 - val_acc: 0.8672\n",
      "Epoch 3/20\n",
      "12396/12396 [==============================] - 24s 2ms/step - loss: 0.0938 - acc: 0.9652 - val_loss: 0.3918 - val_acc: 0.8541\n",
      "Epoch 4/20\n",
      "12396/12396 [==============================] - 24s 2ms/step - loss: 0.0505 - acc: 0.9818 - val_loss: 0.4951 - val_acc: 0.8570\n",
      "Epoch 5/20\n",
      "12396/12396 [==============================] - 24s 2ms/step - loss: 0.0332 - acc: 0.9885 - val_loss: 0.5594 - val_acc: 0.8425\n",
      "Epoch 6/20\n",
      "12396/12396 [==============================] - 24s 2ms/step - loss: 0.0291 - acc: 0.9898 - val_loss: 0.6225 - val_acc: 0.8469\n",
      "Epoch 7/20\n",
      "12396/12396 [==============================] - 24s 2ms/step - loss: 0.0216 - acc: 0.9930 - val_loss: 0.7150 - val_acc: 0.8396\n",
      "Epoch 8/20\n",
      "12396/12396 [==============================] - 24s 2ms/step - loss: 0.0194 - acc: 0.9932 - val_loss: 0.7430 - val_acc: 0.8454\n",
      "Epoch 9/20\n",
      "12396/12396 [==============================] - 24s 2ms/step - loss: 0.0165 - acc: 0.9948 - val_loss: 0.7475 - val_acc: 0.8360\n",
      "Epoch 10/20\n",
      "12396/12396 [==============================] - 24s 2ms/step - loss: 0.0078 - acc: 0.9979 - val_loss: 0.8625 - val_acc: 0.8389\n",
      "Epoch 11/20\n",
      "12396/12396 [==============================] - 24s 2ms/step - loss: 0.0096 - acc: 0.9971 - val_loss: 0.8362 - val_acc: 0.8440\n",
      "Epoch 12/20\n",
      "12396/12396 [==============================] - 24s 2ms/step - loss: 0.0096 - acc: 0.9969 - val_loss: 0.9227 - val_acc: 0.8353\n",
      "Epoch 13/20\n",
      "12396/12396 [==============================] - 24s 2ms/step - loss: 0.0092 - acc: 0.9968 - val_loss: 0.8905 - val_acc: 0.8208\n",
      "Epoch 14/20\n",
      "12396/12396 [==============================] - 24s 2ms/step - loss: 0.0080 - acc: 0.9974 - val_loss: 0.8926 - val_acc: 0.8295\n",
      "Epoch 15/20\n",
      "12396/12396 [==============================] - 24s 2ms/step - loss: 0.0049 - acc: 0.9983 - val_loss: 0.9859 - val_acc: 0.8186\n",
      "Epoch 16/20\n",
      "12396/12396 [==============================] - 24s 2ms/step - loss: 0.0070 - acc: 0.9981 - val_loss: 1.0185 - val_acc: 0.8273\n",
      "Epoch 17/20\n",
      "12396/12396 [==============================] - 24s 2ms/step - loss: 0.0072 - acc: 0.9977 - val_loss: 0.9779 - val_acc: 0.8309\n",
      "Epoch 18/20\n"
     ]
    },
    {
     "name": "stdout",
     "output_type": "stream",
     "text": [
      "12396/12396 [==============================] - 23s 2ms/step - loss: 0.0051 - acc: 0.9981 - val_loss: 1.1229 - val_acc: 0.8389\n",
      "Epoch 19/20\n",
      "12396/12396 [==============================] - 23s 2ms/step - loss: 0.0062 - acc: 0.9981 - val_loss: 0.9222 - val_acc: 0.8186\n",
      "Epoch 20/20\n",
      "12396/12396 [==============================] - 23s 2ms/step - loss: 0.0057 - acc: 0.9977 - val_loss: 0.9911 - val_acc: 0.8309\n",
      "1532/1532 [==============================] - 0s 253us/step\n",
      "Build model...\n",
      "Train on 12398 samples, validate on 1378 samples\n",
      "Epoch 1/20\n",
      "12398/12398 [==============================] - 24s 2ms/step - loss: 0.3966 - acc: 0.8209 - val_loss: 0.2937 - val_acc: 0.8832\n",
      "Epoch 2/20\n",
      "12398/12398 [==============================] - 23s 2ms/step - loss: 0.1788 - acc: 0.9356 - val_loss: 0.3133 - val_acc: 0.8795\n",
      "Epoch 3/20\n",
      "12398/12398 [==============================] - 23s 2ms/step - loss: 0.0935 - acc: 0.9668 - val_loss: 0.3865 - val_acc: 0.8694\n",
      "Epoch 4/20\n",
      "12398/12398 [==============================] - 23s 2ms/step - loss: 0.0558 - acc: 0.9809 - val_loss: 0.5224 - val_acc: 0.8440\n",
      "Epoch 5/20\n",
      "12398/12398 [==============================] - 23s 2ms/step - loss: 0.0367 - acc: 0.9869 - val_loss: 0.5442 - val_acc: 0.8433\n",
      "Epoch 6/20\n",
      "12398/12398 [==============================] - 23s 2ms/step - loss: 0.0280 - acc: 0.9908 - val_loss: 0.6500 - val_acc: 0.8520\n",
      "Epoch 7/20\n",
      "12398/12398 [==============================] - 23s 2ms/step - loss: 0.0227 - acc: 0.9922 - val_loss: 0.6788 - val_acc: 0.8541\n",
      "Epoch 8/20\n",
      "12398/12398 [==============================] - 23s 2ms/step - loss: 0.0177 - acc: 0.9946 - val_loss: 0.7914 - val_acc: 0.8382\n",
      "Epoch 9/20\n",
      "12398/12398 [==============================] - 23s 2ms/step - loss: 0.0128 - acc: 0.9953 - val_loss: 0.9169 - val_acc: 0.8411\n",
      "Epoch 10/20\n",
      "12398/12398 [==============================] - 23s 2ms/step - loss: 0.0172 - acc: 0.9943 - val_loss: 0.7465 - val_acc: 0.8476\n",
      "Epoch 11/20\n",
      "12398/12398 [==============================] - 23s 2ms/step - loss: 0.0151 - acc: 0.9954 - val_loss: 0.8459 - val_acc: 0.8382\n",
      "Epoch 12/20\n",
      "12398/12398 [==============================] - 23s 2ms/step - loss: 0.0114 - acc: 0.9965 - val_loss: 0.7807 - val_acc: 0.8418\n",
      "Epoch 13/20\n",
      "12398/12398 [==============================] - 23s 2ms/step - loss: 0.0052 - acc: 0.9988 - val_loss: 0.8932 - val_acc: 0.8273\n",
      "Epoch 14/20\n",
      "12398/12398 [==============================] - 23s 2ms/step - loss: 0.0075 - acc: 0.9981 - val_loss: 0.9306 - val_acc: 0.8324\n",
      "Epoch 15/20\n",
      "12398/12398 [==============================] - 23s 2ms/step - loss: 0.0096 - acc: 0.9966 - val_loss: 0.8249 - val_acc: 0.8251\n",
      "Epoch 16/20\n",
      "12398/12398 [==============================] - 23s 2ms/step - loss: 0.0085 - acc: 0.9974 - val_loss: 1.0079 - val_acc: 0.8157\n",
      "Epoch 17/20\n",
      "12398/12398 [==============================] - 23s 2ms/step - loss: 0.0084 - acc: 0.9975 - val_loss: 0.9377 - val_acc: 0.8498\n",
      "Epoch 18/20\n",
      "12398/12398 [==============================] - 23s 2ms/step - loss: 0.0037 - acc: 0.9987 - val_loss: 1.0286 - val_acc: 0.8389\n",
      "Epoch 19/20\n",
      "12398/12398 [==============================] - 23s 2ms/step - loss: 0.0020 - acc: 0.9994 - val_loss: 1.0687 - val_acc: 0.8454\n",
      "Epoch 20/20\n",
      "12398/12398 [==============================] - 23s 2ms/step - loss: 0.0018 - acc: 0.9995 - val_loss: 1.2065 - val_acc: 0.8396\n",
      "1530/1530 [==============================] - 0s 282us/step\n",
      "Build model...\n",
      "Train on 12398 samples, validate on 1378 samples\n",
      "Epoch 1/20\n",
      "12398/12398 [==============================] - 24s 2ms/step - loss: 0.4040 - acc: 0.8151 - val_loss: 0.2957 - val_acc: 0.8839\n",
      "Epoch 2/20\n",
      "12398/12398 [==============================] - 24s 2ms/step - loss: 0.1789 - acc: 0.9335 - val_loss: 0.3163 - val_acc: 0.8861\n",
      "Epoch 3/20\n",
      "12398/12398 [==============================] - 24s 2ms/step - loss: 0.0942 - acc: 0.9659 - val_loss: 0.3754 - val_acc: 0.8708\n",
      "Epoch 4/20\n",
      "12398/12398 [==============================] - 23s 2ms/step - loss: 0.0531 - acc: 0.9824 - val_loss: 0.5069 - val_acc: 0.8679\n",
      "Epoch 5/20\n",
      "12398/12398 [==============================] - 23s 2ms/step - loss: 0.0377 - acc: 0.9868 - val_loss: 0.5573 - val_acc: 0.8476\n",
      "Epoch 6/20\n",
      "12398/12398 [==============================] - 24s 2ms/step - loss: 0.0309 - acc: 0.9898 - val_loss: 0.5739 - val_acc: 0.8498\n",
      "Epoch 7/20\n",
      "12398/12398 [==============================] - 24s 2ms/step - loss: 0.0225 - acc: 0.9927 - val_loss: 0.6388 - val_acc: 0.8418\n",
      "Epoch 8/20\n",
      "12398/12398 [==============================] - 24s 2ms/step - loss: 0.0190 - acc: 0.9936 - val_loss: 0.8168 - val_acc: 0.8425\n",
      "Epoch 9/20\n",
      "12398/12398 [==============================] - 24s 2ms/step - loss: 0.0182 - acc: 0.9931 - val_loss: 0.8144 - val_acc: 0.8433\n",
      "Epoch 10/20\n",
      "12398/12398 [==============================] - 24s 2ms/step - loss: 0.0120 - acc: 0.9965 - val_loss: 0.8766 - val_acc: 0.8382\n",
      "Epoch 11/20\n",
      "12398/12398 [==============================] - 24s 2ms/step - loss: 0.0156 - acc: 0.9954 - val_loss: 0.8437 - val_acc: 0.8483\n",
      "Epoch 12/20\n",
      "12398/12398 [==============================] - 24s 2ms/step - loss: 0.0127 - acc: 0.9966 - val_loss: 0.8646 - val_acc: 0.8273\n",
      "Epoch 13/20\n",
      "12398/12398 [==============================] - 24s 2ms/step - loss: 0.0112 - acc: 0.9966 - val_loss: 0.8867 - val_acc: 0.8483\n",
      "Epoch 14/20\n",
      "12398/12398 [==============================] - 24s 2ms/step - loss: 0.0070 - acc: 0.9981 - val_loss: 0.8779 - val_acc: 0.8491\n",
      "Epoch 15/20\n",
      "12398/12398 [==============================] - 24s 2ms/step - loss: 0.0074 - acc: 0.9977 - val_loss: 0.9605 - val_acc: 0.8331\n",
      "Epoch 16/20\n",
      "12398/12398 [==============================] - 24s 2ms/step - loss: 0.0080 - acc: 0.9973 - val_loss: 0.9285 - val_acc: 0.8433\n",
      "Epoch 17/20\n",
      "12398/12398 [==============================] - 24s 2ms/step - loss: 0.0061 - acc: 0.9983 - val_loss: 1.0236 - val_acc: 0.8411\n",
      "Epoch 18/20\n",
      "12398/12398 [==============================] - 24s 2ms/step - loss: 0.0057 - acc: 0.9986 - val_loss: 0.9225 - val_acc: 0.8418\n",
      "Epoch 19/20\n",
      "12398/12398 [==============================] - 24s 2ms/step - loss: 0.0040 - acc: 0.9990 - val_loss: 1.0426 - val_acc: 0.8367\n",
      "Epoch 20/20\n",
      "12398/12398 [==============================] - 24s 2ms/step - loss: 0.0079 - acc: 0.9972 - val_loss: 0.9051 - val_acc: 0.8353\n",
      "1530/1530 [==============================] - 0s 255us/step\n",
      "Build model...\n",
      "Train on 12398 samples, validate on 1378 samples\n",
      "Epoch 1/20\n",
      "12398/12398 [==============================] - 25s 2ms/step - loss: 0.3994 - acc: 0.8200 - val_loss: 0.3109 - val_acc: 0.8839\n",
      "Epoch 2/20\n",
      "12398/12398 [==============================] - 24s 2ms/step - loss: 0.1787 - acc: 0.9337 - val_loss: 0.3153 - val_acc: 0.8708\n",
      "Epoch 3/20\n",
      "12398/12398 [==============================] - 24s 2ms/step - loss: 0.0949 - acc: 0.9667 - val_loss: 0.3796 - val_acc: 0.8737\n",
      "Epoch 4/20\n",
      "12398/12398 [==============================] - 24s 2ms/step - loss: 0.0531 - acc: 0.9816 - val_loss: 0.4873 - val_acc: 0.8520\n",
      "Epoch 5/20\n",
      "12398/12398 [==============================] - 24s 2ms/step - loss: 0.0368 - acc: 0.9877 - val_loss: 0.5323 - val_acc: 0.8382\n",
      "Epoch 6/20\n",
      "12398/12398 [==============================] - 24s 2ms/step - loss: 0.0262 - acc: 0.9916 - val_loss: 0.8147 - val_acc: 0.8411\n",
      "Epoch 7/20\n",
      "12398/12398 [==============================] - 24s 2ms/step - loss: 0.0212 - acc: 0.9931 - val_loss: 0.6704 - val_acc: 0.8498\n",
      "Epoch 8/20\n",
      "12398/12398 [==============================] - 24s 2ms/step - loss: 0.0205 - acc: 0.9927 - val_loss: 0.7508 - val_acc: 0.8345\n",
      "Epoch 9/20\n",
      "12398/12398 [==============================] - 24s 2ms/step - loss: 0.0135 - acc: 0.9965 - val_loss: 0.7303 - val_acc: 0.8309\n",
      "Epoch 10/20\n",
      "12398/12398 [==============================] - 24s 2ms/step - loss: 0.0101 - acc: 0.9971 - val_loss: 0.9147 - val_acc: 0.8462\n",
      "Epoch 11/20\n",
      "12398/12398 [==============================] - 24s 2ms/step - loss: 0.0095 - acc: 0.9974 - val_loss: 0.9822 - val_acc: 0.8360\n",
      "Epoch 12/20\n",
      "12398/12398 [==============================] - 24s 2ms/step - loss: 0.0134 - acc: 0.9964 - val_loss: 0.8814 - val_acc: 0.8367\n",
      "Epoch 13/20\n",
      "12398/12398 [==============================] - 24s 2ms/step - loss: 0.0089 - acc: 0.9972 - val_loss: 0.8162 - val_acc: 0.8309\n",
      "Epoch 14/20\n",
      "12398/12398 [==============================] - 24s 2ms/step - loss: 0.0097 - acc: 0.9972 - val_loss: 0.8303 - val_acc: 0.8454\n"
     ]
    },
    {
     "name": "stdout",
     "output_type": "stream",
     "text": [
      "Epoch 15/20\n",
      "12398/12398 [==============================] - 23s 2ms/step - loss: 0.0061 - acc: 0.9981 - val_loss: 0.9954 - val_acc: 0.8360\n",
      "Epoch 16/20\n",
      "12398/12398 [==============================] - 24s 2ms/step - loss: 0.0035 - acc: 0.9990 - val_loss: 1.0212 - val_acc: 0.8360\n",
      "Epoch 17/20\n",
      "12398/12398 [==============================] - 24s 2ms/step - loss: 0.0022 - acc: 0.9995 - val_loss: 1.1270 - val_acc: 0.8345\n",
      "Epoch 18/20\n",
      "12398/12398 [==============================] - 23s 2ms/step - loss: 0.0059 - acc: 0.9984 - val_loss: 0.8796 - val_acc: 0.8331\n",
      "Epoch 19/20\n",
      "12398/12398 [==============================] - 23s 2ms/step - loss: 0.0112 - acc: 0.9963 - val_loss: 0.9150 - val_acc: 0.8338\n",
      "Epoch 20/20\n",
      "12398/12398 [==============================] - 23s 2ms/step - loss: 0.0109 - acc: 0.9968 - val_loss: 0.9474 - val_acc: 0.8287\n",
      "1530/1530 [==============================] - 0s 256us/step\n",
      "Build model...\n",
      "Train on 12398 samples, validate on 1378 samples\n",
      "Epoch 1/20\n",
      "12398/12398 [==============================] - 25s 2ms/step - loss: 0.3969 - acc: 0.8217 - val_loss: 0.3255 - val_acc: 0.8643\n",
      "Epoch 2/20\n",
      "12398/12398 [==============================] - 23s 2ms/step - loss: 0.1793 - acc: 0.9316 - val_loss: 0.3140 - val_acc: 0.8737\n",
      "Epoch 3/20\n",
      "12398/12398 [==============================] - 23s 2ms/step - loss: 0.0956 - acc: 0.9667 - val_loss: 0.3681 - val_acc: 0.8723\n",
      "Epoch 4/20\n",
      "12398/12398 [==============================] - 23s 2ms/step - loss: 0.0519 - acc: 0.9818 - val_loss: 0.4960 - val_acc: 0.8541\n",
      "Epoch 5/20\n",
      "12398/12398 [==============================] - 23s 2ms/step - loss: 0.0333 - acc: 0.9889 - val_loss: 0.6184 - val_acc: 0.8287\n",
      "Epoch 6/20\n",
      "12398/12398 [==============================] - 23s 2ms/step - loss: 0.0259 - acc: 0.9913 - val_loss: 0.6537 - val_acc: 0.8454\n",
      "Epoch 7/20\n",
      "12398/12398 [==============================] - 23s 2ms/step - loss: 0.0238 - acc: 0.9924 - val_loss: 0.7820 - val_acc: 0.8331\n",
      "Epoch 8/20\n",
      "12398/12398 [==============================] - 23s 2ms/step - loss: 0.0185 - acc: 0.9935 - val_loss: 0.7836 - val_acc: 0.8483\n",
      "Epoch 9/20\n",
      "12398/12398 [==============================] - 23s 2ms/step - loss: 0.0126 - acc: 0.9956 - val_loss: 0.7982 - val_acc: 0.8295\n",
      "Epoch 10/20\n",
      "12398/12398 [==============================] - 25s 2ms/step - loss: 0.0138 - acc: 0.9960 - val_loss: 0.9680 - val_acc: 0.8287\n",
      "Epoch 11/20\n",
      "12398/12398 [==============================] - 24s 2ms/step - loss: 0.0166 - acc: 0.9952 - val_loss: 0.9792 - val_acc: 0.8505\n",
      "Epoch 12/20\n",
      "12398/12398 [==============================] - 24s 2ms/step - loss: 0.0112 - acc: 0.9965 - val_loss: 0.9837 - val_acc: 0.8418\n",
      "Epoch 13/20\n",
      "12398/12398 [==============================] - 24s 2ms/step - loss: 0.0084 - acc: 0.9977 - val_loss: 0.9045 - val_acc: 0.8367\n",
      "Epoch 14/20\n",
      "12398/12398 [==============================] - 24s 2ms/step - loss: 0.0054 - acc: 0.9987 - val_loss: 0.9676 - val_acc: 0.8360\n",
      "Epoch 15/20\n",
      "12398/12398 [==============================] - 24s 2ms/step - loss: 0.0036 - acc: 0.9990 - val_loss: 1.0605 - val_acc: 0.8353\n",
      "Epoch 16/20\n",
      "12398/12398 [==============================] - 24s 2ms/step - loss: 0.0099 - acc: 0.9969 - val_loss: 1.0792 - val_acc: 0.8193\n",
      "Epoch 17/20\n",
      "12398/12398 [==============================] - 24s 2ms/step - loss: 0.0168 - acc: 0.9950 - val_loss: 0.9291 - val_acc: 0.8164\n",
      "Epoch 18/20\n",
      "12398/12398 [==============================] - 24s 2ms/step - loss: 0.0064 - acc: 0.9984 - val_loss: 1.0303 - val_acc: 0.8309\n",
      "Epoch 19/20\n",
      "12398/12398 [==============================] - 24s 2ms/step - loss: 0.0029 - acc: 0.9990 - val_loss: 1.1150 - val_acc: 0.8374\n",
      "Epoch 20/20\n",
      "12398/12398 [==============================] - 24s 2ms/step - loss: 0.0050 - acc: 0.9980 - val_loss: 0.9592 - val_acc: 0.8396\n",
      "1530/1530 [==============================] - 0s 259us/step\n",
      "Build model...\n",
      "Train on 12398 samples, validate on 1378 samples\n",
      "Epoch 1/20\n",
      "12398/12398 [==============================] - 24s 2ms/step - loss: 0.3954 - acc: 0.8209 - val_loss: 0.2935 - val_acc: 0.8832\n",
      "Epoch 2/20\n",
      "12398/12398 [==============================] - 23s 2ms/step - loss: 0.1765 - acc: 0.9347 - val_loss: 0.3267 - val_acc: 0.8897\n",
      "Epoch 3/20\n",
      "12398/12398 [==============================] - 23s 2ms/step - loss: 0.0916 - acc: 0.9673 - val_loss: 0.4339 - val_acc: 0.8650\n",
      "Epoch 4/20\n",
      "12398/12398 [==============================] - 23s 2ms/step - loss: 0.0528 - acc: 0.9831 - val_loss: 0.4722 - val_acc: 0.8694\n",
      "Epoch 5/20\n",
      "12398/12398 [==============================] - 23s 2ms/step - loss: 0.0378 - acc: 0.9869 - val_loss: 0.4986 - val_acc: 0.8599\n",
      "Epoch 6/20\n",
      "12398/12398 [==============================] - 23s 2ms/step - loss: 0.0295 - acc: 0.9900 - val_loss: 0.6165 - val_acc: 0.8628\n",
      "Epoch 7/20\n",
      "12398/12398 [==============================] - 23s 2ms/step - loss: 0.0254 - acc: 0.9910 - val_loss: 0.6751 - val_acc: 0.8512\n",
      "Epoch 8/20\n",
      "12398/12398 [==============================] - 23s 2ms/step - loss: 0.0173 - acc: 0.9942 - val_loss: 0.7471 - val_acc: 0.8505\n",
      "Epoch 9/20\n",
      "12398/12398 [==============================] - 23s 2ms/step - loss: 0.0151 - acc: 0.9952 - val_loss: 0.6822 - val_acc: 0.8425\n",
      "Epoch 10/20\n",
      "12398/12398 [==============================] - 23s 2ms/step - loss: 0.0117 - acc: 0.9965 - val_loss: 0.8366 - val_acc: 0.8491\n",
      "Epoch 11/20\n",
      "12398/12398 [==============================] - 23s 2ms/step - loss: 0.0084 - acc: 0.9969 - val_loss: 0.8624 - val_acc: 0.8462\n",
      "Epoch 12/20\n",
      "12398/12398 [==============================] - 23s 2ms/step - loss: 0.0062 - acc: 0.9981 - val_loss: 0.8795 - val_acc: 0.8454\n",
      "Epoch 13/20\n",
      "12398/12398 [==============================] - 23s 2ms/step - loss: 0.0081 - acc: 0.9978 - val_loss: 1.0470 - val_acc: 0.8403\n",
      "Epoch 14/20\n",
      "12398/12398 [==============================] - 23s 2ms/step - loss: 0.0123 - acc: 0.9958 - val_loss: 0.9146 - val_acc: 0.8462\n",
      "Epoch 15/20\n",
      "12398/12398 [==============================] - 23s 2ms/step - loss: 0.0107 - acc: 0.9969 - val_loss: 0.8916 - val_acc: 0.8382\n",
      "Epoch 16/20\n",
      "12398/12398 [==============================] - 23s 2ms/step - loss: 0.0086 - acc: 0.9976 - val_loss: 1.1072 - val_acc: 0.8331\n",
      "Epoch 17/20\n",
      "12398/12398 [==============================] - 23s 2ms/step - loss: 0.0074 - acc: 0.9975 - val_loss: 0.9079 - val_acc: 0.8324\n",
      "Epoch 18/20\n",
      "12398/12398 [==============================] - 23s 2ms/step - loss: 0.0034 - acc: 0.9994 - val_loss: 1.0339 - val_acc: 0.8353\n",
      "Epoch 19/20\n",
      "12398/12398 [==============================] - 23s 2ms/step - loss: 0.0018 - acc: 0.9995 - val_loss: 1.1908 - val_acc: 0.8360\n",
      "Epoch 20/20\n",
      "12398/12398 [==============================] - 23s 2ms/step - loss: 0.0039 - acc: 0.9987 - val_loss: 1.1466 - val_acc: 0.8382\n",
      "1530/1530 [==============================] - 0s 259us/step\n",
      "Build model...\n",
      "Train on 12398 samples, validate on 1378 samples\n",
      "Epoch 1/20\n",
      "12398/12398 [==============================] - 25s 2ms/step - loss: 0.3941 - acc: 0.8234 - val_loss: 0.2978 - val_acc: 0.8824\n",
      "Epoch 2/20\n",
      "12398/12398 [==============================] - 23s 2ms/step - loss: 0.1756 - acc: 0.9377 - val_loss: 0.3208 - val_acc: 0.8759\n",
      "Epoch 3/20\n",
      "12398/12398 [==============================] - 23s 2ms/step - loss: 0.0948 - acc: 0.9675 - val_loss: 0.3906 - val_acc: 0.8614\n",
      "Epoch 4/20\n",
      "12398/12398 [==============================] - 24s 2ms/step - loss: 0.0569 - acc: 0.9805 - val_loss: 0.4900 - val_acc: 0.8433\n",
      "Epoch 5/20\n",
      "12398/12398 [==============================] - 23s 2ms/step - loss: 0.0347 - acc: 0.9881 - val_loss: 0.5537 - val_acc: 0.8556\n",
      "Epoch 6/20\n",
      "12398/12398 [==============================] - 23s 2ms/step - loss: 0.0254 - acc: 0.9911 - val_loss: 0.6807 - val_acc: 0.8331\n",
      "Epoch 7/20\n",
      "12398/12398 [==============================] - 23s 2ms/step - loss: 0.0222 - acc: 0.9918 - val_loss: 0.7332 - val_acc: 0.8483\n",
      "Epoch 8/20\n",
      "12398/12398 [==============================] - 23s 2ms/step - loss: 0.0174 - acc: 0.9948 - val_loss: 0.7757 - val_acc: 0.8345\n",
      "Epoch 9/20\n",
      "12398/12398 [==============================] - 23s 2ms/step - loss: 0.0141 - acc: 0.9958 - val_loss: 0.9020 - val_acc: 0.8360\n",
      "Epoch 10/20\n",
      "12398/12398 [==============================] - 23s 2ms/step - loss: 0.0107 - acc: 0.9966 - val_loss: 0.8440 - val_acc: 0.8360\n",
      "Epoch 11/20\n",
      "12398/12398 [==============================] - 23s 2ms/step - loss: 0.0109 - acc: 0.9965 - val_loss: 1.0170 - val_acc: 0.8309\n"
     ]
    },
    {
     "name": "stdout",
     "output_type": "stream",
     "text": [
      "Epoch 12/20\n",
      "12398/12398 [==============================] - 23s 2ms/step - loss: 0.0116 - acc: 0.9964 - val_loss: 0.8891 - val_acc: 0.8374\n",
      "Epoch 13/20\n",
      "12398/12398 [==============================] - 23s 2ms/step - loss: 0.0092 - acc: 0.9973 - val_loss: 1.0163 - val_acc: 0.8382\n",
      "Epoch 14/20\n",
      "12398/12398 [==============================] - 23s 2ms/step - loss: 0.0081 - acc: 0.9973 - val_loss: 1.1561 - val_acc: 0.8287\n",
      "Epoch 15/20\n",
      "12398/12398 [==============================] - 23s 2ms/step - loss: 0.0089 - acc: 0.9979 - val_loss: 0.9903 - val_acc: 0.8309\n",
      "Epoch 16/20\n",
      "12398/12398 [==============================] - 23s 2ms/step - loss: 0.0069 - acc: 0.9974 - val_loss: 1.0431 - val_acc: 0.8353\n",
      "Epoch 17/20\n",
      "12398/12398 [==============================] - 23s 2ms/step - loss: 0.0076 - acc: 0.9975 - val_loss: 1.0762 - val_acc: 0.8309\n",
      "Epoch 18/20\n",
      "12398/12398 [==============================] - 23s 2ms/step - loss: 0.0038 - acc: 0.9986 - val_loss: 1.0563 - val_acc: 0.8425\n",
      "Epoch 19/20\n",
      "12398/12398 [==============================] - 23s 2ms/step - loss: 0.0046 - acc: 0.9987 - val_loss: 1.0651 - val_acc: 0.8295\n",
      "Epoch 20/20\n",
      "12398/12398 [==============================] - 23s 2ms/step - loss: 0.0059 - acc: 0.9980 - val_loss: 1.1014 - val_acc: 0.8353\n",
      "1530/1530 [==============================] - 0s 254us/step\n",
      "Build model...\n",
      "Train on 12398 samples, validate on 1378 samples\n",
      "Epoch 1/20\n",
      "12398/12398 [==============================] - 25s 2ms/step - loss: 0.4007 - acc: 0.8202 - val_loss: 0.2832 - val_acc: 0.8868\n",
      "Epoch 2/20\n",
      "12398/12398 [==============================] - 23s 2ms/step - loss: 0.1745 - acc: 0.9356 - val_loss: 0.2863 - val_acc: 0.8853\n",
      "Epoch 3/20\n",
      "12398/12398 [==============================] - 23s 2ms/step - loss: 0.0915 - acc: 0.9673 - val_loss: 0.3646 - val_acc: 0.8752\n",
      "Epoch 4/20\n",
      "12398/12398 [==============================] - 23s 2ms/step - loss: 0.0540 - acc: 0.9816 - val_loss: 0.4590 - val_acc: 0.8687\n",
      "Epoch 5/20\n",
      "12398/12398 [==============================] - 23s 2ms/step - loss: 0.0347 - acc: 0.9882 - val_loss: 0.5579 - val_acc: 0.8614\n",
      "Epoch 6/20\n",
      "12398/12398 [==============================] - 23s 2ms/step - loss: 0.0250 - acc: 0.9912 - val_loss: 0.5837 - val_acc: 0.8607\n",
      "Epoch 7/20\n",
      "12398/12398 [==============================] - 23s 2ms/step - loss: 0.0231 - acc: 0.9917 - val_loss: 0.6249 - val_acc: 0.8527\n",
      "Epoch 8/20\n",
      "12398/12398 [==============================] - 23s 2ms/step - loss: 0.0225 - acc: 0.9927 - val_loss: 0.7061 - val_acc: 0.8643\n",
      "Epoch 9/20\n",
      "12398/12398 [==============================] - 23s 2ms/step - loss: 0.0169 - acc: 0.9938 - val_loss: 0.7356 - val_acc: 0.8476\n",
      "Epoch 10/20\n",
      "12398/12398 [==============================] - 23s 2ms/step - loss: 0.0134 - acc: 0.9956 - val_loss: 0.7826 - val_acc: 0.8592\n",
      "Epoch 11/20\n",
      "12398/12398 [==============================] - 23s 2ms/step - loss: 0.0116 - acc: 0.9963 - val_loss: 0.7222 - val_acc: 0.8389\n",
      "Epoch 12/20\n",
      "12398/12398 [==============================] - 23s 2ms/step - loss: 0.0104 - acc: 0.9972 - val_loss: 0.8322 - val_acc: 0.8491\n",
      "Epoch 13/20\n",
      "12398/12398 [==============================] - 23s 2ms/step - loss: 0.0072 - acc: 0.9978 - val_loss: 0.8731 - val_acc: 0.8643\n",
      "Epoch 14/20\n",
      "12398/12398 [==============================] - 23s 2ms/step - loss: 0.0062 - acc: 0.9981 - val_loss: 0.9774 - val_acc: 0.8563\n",
      "Epoch 15/20\n",
      "12398/12398 [==============================] - 23s 2ms/step - loss: 0.0040 - acc: 0.9986 - val_loss: 0.9740 - val_acc: 0.8505\n",
      "Epoch 16/20\n",
      "12398/12398 [==============================] - 23s 2ms/step - loss: 0.0053 - acc: 0.9983 - val_loss: 1.0165 - val_acc: 0.8491\n",
      "Epoch 17/20\n",
      "12398/12398 [==============================] - 23s 2ms/step - loss: 0.0101 - acc: 0.9967 - val_loss: 0.8594 - val_acc: 0.8367\n",
      "Epoch 18/20\n",
      "12398/12398 [==============================] - 23s 2ms/step - loss: 0.0105 - acc: 0.9962 - val_loss: 0.8377 - val_acc: 0.8563\n",
      "Epoch 19/20\n",
      "12398/12398 [==============================] - 23s 2ms/step - loss: 0.0056 - acc: 0.9982 - val_loss: 0.9091 - val_acc: 0.8534\n",
      "Epoch 20/20\n",
      "12398/12398 [==============================] - 23s 2ms/step - loss: 0.0025 - acc: 0.9994 - val_loss: 0.9378 - val_acc: 0.8607\n",
      "1530/1530 [==============================] - 0s 254us/step\n"
     ]
    }
   ],
   "source": [
    "results = cross_val(tweet_sec,ds['CATEGORY'],10)"
   ]
  },
  {
   "cell_type": "code",
   "execution_count": 16,
   "metadata": {},
   "outputs": [
    {
     "name": "stdout",
     "output_type": "stream",
     "text": [
      "Acc: 85.15 (+/- 1.07)\n"
     ]
    }
   ],
   "source": [
    "print(\"Acc: %.2f (+/- %.2f)\" %(np.mean(results), np.std(results)))"
   ]
  },
  {
   "cell_type": "code",
   "execution_count": 17,
   "metadata": {},
   "outputs": [
    {
     "ename": "SyntaxError",
     "evalue": "invalid syntax (<ipython-input-17-42654225b0b8>, line 2)",
     "output_type": "error",
     "traceback": [
      "\u001b[0;36m  File \u001b[0;32m\"<ipython-input-17-42654225b0b8>\"\u001b[0;36m, line \u001b[0;32m2\u001b[0m\n\u001b[0;31m    print \"Model %d, acc: %.2f \" %(i+1,results[i])\u001b[0m\n\u001b[0m                               ^\u001b[0m\n\u001b[0;31mSyntaxError\u001b[0m\u001b[0;31m:\u001b[0m invalid syntax\n"
     ]
    }
   ],
   "source": [
    "for i in range (0,len(results)):\n",
    "    print \"Model %d, acc: %.2f \" %(i+1,results[i])"
   ]
  },
  {
   "cell_type": "code",
   "execution_count": 22,
   "metadata": {},
   "outputs": [
    {
     "name": "stdout",
     "output_type": "stream",
     "text": [
      "Build model...\n",
      "Epoch 1/20\n",
      "15306/15306 [==============================] - 34s - loss: 0.3845 - acc: 0.8339    \n",
      "Epoch 2/20\n",
      "15306/15306 [==============================] - 33s - loss: 0.1770 - acc: 0.9347    \n",
      "Epoch 3/20\n",
      "15306/15306 [==============================] - 32s - loss: 0.0932 - acc: 0.9654    \n",
      "Epoch 4/20\n",
      "15306/15306 [==============================] - 32s - loss: 0.0588 - acc: 0.9795    \n",
      "Epoch 5/20\n",
      "15306/15306 [==============================] - 32s - loss: 0.0406 - acc: 0.9856    \n",
      "Epoch 6/20\n",
      "15306/15306 [==============================] - 32s - loss: 0.0369 - acc: 0.9873    \n",
      "Epoch 7/20\n",
      "15306/15306 [==============================] - 32s - loss: 0.0230 - acc: 0.9918    \n",
      "Epoch 8/20\n",
      "15306/15306 [==============================] - 31s - loss: 0.0195 - acc: 0.9929    \n",
      "Epoch 9/20\n",
      "15306/15306 [==============================] - 32s - loss: 0.0213 - acc: 0.9922    \n",
      "Epoch 10/20\n",
      "15306/15306 [==============================] - 32s - loss: 0.0128 - acc: 0.9955    \n",
      "Epoch 11/20\n",
      "15306/15306 [==============================] - 32s - loss: 0.0110 - acc: 0.9971    \n",
      "Epoch 12/20\n",
      "15306/15306 [==============================] - 32s - loss: 0.0083 - acc: 0.9971    \n",
      "Epoch 13/20\n",
      "15306/15306 [==============================] - 33s - loss: 0.0087 - acc: 0.9973    \n",
      "Epoch 14/20\n",
      "15306/15306 [==============================] - 32s - loss: 0.0100 - acc: 0.9967    \n",
      "Epoch 15/20\n",
      "15306/15306 [==============================] - 32s - loss: 0.0072 - acc: 0.9979    \n",
      "Epoch 16/20\n",
      "15306/15306 [==============================] - 32s - loss: 0.0104 - acc: 0.9971    \n",
      "Epoch 17/20\n",
      "15306/15306 [==============================] - 32s - loss: 0.0054 - acc: 0.9983    \n",
      "Epoch 18/20\n",
      "15306/15306 [==============================] - 31s - loss: 0.0029 - acc: 0.9992    - ETA: 0s - loss: 0.002\n",
      "Epoch 19/20\n",
      "15306/15306 [==============================] - 31s - loss: 0.0024 - acc: 0.9993    \n",
      "Epoch 20/20\n",
      "15306/15306 [==============================] - 31s - loss: 0.0058 - acc: 0.9980    - ETA: 1s - loss: 0\n"
     ]
    }
   ],
   "source": [
    "trained_model = train_model(tweet_sec,ds['CATEGORY'])"
   ]
  },
  {
   "cell_type": "code",
   "execution_count": 23,
   "metadata": {
    "collapsed": true
   },
   "outputs": [],
   "source": [
    "model_json = trained_model.model.to_json()\n",
    "with open(\"./LSTM.json\",'w') as json_file:\n",
    "    json_file.write(model_json)\n",
    "trained_model.model.save_weights(\"./LSTM_weights.h5\")"
   ]
  }
 ],
 "metadata": {
  "kernelspec": {
   "display_name": "Python3(f_project)",
   "language": "python",
   "name": "dependencies"
  },
  "language_info": {
   "codemirror_mode": {
    "name": "ipython",
    "version": 3
   },
   "file_extension": ".py",
   "mimetype": "text/x-python",
   "name": "python",
   "nbconvert_exporter": "python",
   "pygments_lexer": "ipython3",
   "version": "3.5.2"
  }
 },
 "nbformat": 4,
 "nbformat_minor": 2
}
